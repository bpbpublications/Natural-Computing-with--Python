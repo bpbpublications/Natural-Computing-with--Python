{
 "cells": [
  {
   "cell_type": "code",
   "execution_count": 3,
   "metadata": {
    "collapsed": false
   },
   "outputs": [
    {
     "name": "stdout",
     "output_type": "stream",
     "text": [
      "        ┌───┐           ░       ┌─┐\n",
      "q_0: |0>┤ H ├──■────■───░───────┤M├\n",
      "        └───┘┌─┴─┐  │   ░    ┌─┐└╥┘\n",
      "q_1: |0>─────┤ X ├──┼───░────┤M├─╫─\n",
      "             └───┘┌─┴─┐ ░ ┌─┐└╥┘ ║ \n",
      "q_2: |0>──────────┤ X ├─░─┤M├─╫──╫─\n",
      "                  └───┘ ░ └╥┘ ║  ║ \n",
      " c_0: 0 ═══════════════════╬══╬══╩═\n",
      "                           ║  ║    \n",
      " c_1: 0 ═══════════════════╬══╩════\n",
      "                           ║       \n",
      " c_2: 0 ═══════════════════╩═══════\n",
      "                                   \n",
      "{'000': 483, '111': 541}\n"
     ]
    },
    {
     "data": {
      "image/png": "[encoded data removed]",
      "text/plain": [
       "<Figure size 504x360 with 1 Axes>"
      ]
     },
     "execution_count": 3,
     "metadata": {},
     "output_type": "execute_result"
    }
   ],
   "source": [
    "import numpy as np\n",
    "from qiskit import QuantumCircuit, ClassicalRegister, QuantumRegister\n",
    "from qiskit import execute\n",
    "\n",
    "\n",
    "#Build the Quantum Model\n",
    "q = QuantumRegister(3, 'q')\n",
    "circ = QuantumCircuit(q)\n",
    "circ.h(q[0])\n",
    "circ.cx(q[0], q[1])\n",
    "circ.cx(q[0], q[2])\n",
    "#Build the Classical Register and the Measure\n",
    "c = ClassicalRegister(3, 'c')\n",
    "meas = QuantumCircuit(q, c)\n",
    "meas.barrier(q)\n",
    "\n",
    "meas.measure(q,c)\n",
    "qc = circ+meas \n",
    "print(qc)\n",
    "\n",
    "#Run the simulation\n",
    "from qiskit import BasicAer\n",
    "backend_sim = BasicAer.get_backend('qasm_simulator')\n",
    "job_sim = execute(qc, backend_sim, shots=1024)\n",
    "result_sim = job_sim.result()\n",
    "counts = result_sim.get_counts(qc)\n",
    "print(counts)\n",
    "\n",
    "\n",
    "#visualization toolbox\n",
    "from qiskit.tools.visualization import plot_histogram\n",
    "plot_histogram(counts)\n"
   ]
  },
  {
   "cell_type": "code",
   "execution_count": null,
   "metadata": {
    "collapsed": true
   },
   "outputs": [],
   "source": []
  }
 ],
 "metadata": {
  "kernelspec": {
   "display_name": "Python 3",
   "language": "python",
   "name": "python3"
  },
  "language_info": {
   "codemirror_mode": {
    "name": "ipython",
    "version": 3
   },
   "file_extension": ".py",
   "mimetype": "text/x-python",
   "name": "python",
   "nbconvert_exporter": "python",
   "pygments_lexer": "ipython3",
   "version": "3.5.0"
  }
 },
 "nbformat": 4,
 "nbformat_minor": 2
}
