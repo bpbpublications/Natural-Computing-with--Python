{
 "cells": [
  {
   "cell_type": "code",
   "execution_count": 4,
   "metadata": {
    "collapsed": false
   },
   "outputs": [],
   "source": [
    "import numpy as np\n",
    "from qiskit import QuantumCircuit, ClassicalRegister, QuantumRegister\n",
    "from qiskit import BasicAer, execute\n",
    "from qiskit.quantum_info import Pauli, state_fidelity, basis_state, process_fidelity\n",
    "\n",
    "q0 = QuantumRegister(2, 'q0')\n",
    "c0 = ClassicalRegister(2, 'c0')\n",
    "q1 = QuantumRegister(2, 'q1')\n",
    "c1 = ClassicalRegister(2, 'c1')\n",
    "q_test = QuantumRegister(2, 'q0')"
   ]
  },
  {
   "cell_type": "code",
   "execution_count": 5,
   "metadata": {
    "collapsed": false
   },
   "outputs": [
    {
     "name": "stdout",
     "output_type": "stream",
     "text": [
      "q0\n",
      "2\n"
     ]
    }
   ],
   "source": [
    "print(q0.name)\n",
    "print(q0.size)"
   ]
  },
  {
   "cell_type": "code",
   "execution_count": 6,
   "metadata": {
    "collapsed": false
   },
   "outputs": [
    {
     "name": "stdout",
     "output_type": "stream",
     "text": [
      "                   \n",
      "q0_0: |0>──────────\n",
      "              ┌───┐\n",
      "q0_1: |0>─────┤ X ├\n",
      "         ┌───┐└───┘\n",
      "q1_0: |0>┤ X ├─────\n",
      "         └───┘     \n",
      "q1_1: |0>──────────\n",
      "                   \n"
     ]
    }
   ],
   "source": [
    "circ = QuantumCircuit(q0, q1)\n",
    "circ.x(q0[1])\n",
    "circ.x(q1[0])\n",
    "print(circ)"
   ]
  },
  {
   "cell_type": "code",
   "execution_count": 7,
   "metadata": {
    "collapsed": false
   },
   "outputs": [
    {
     "name": "stdout",
     "output_type": "stream",
     "text": [
      "                            ┌─┐\n",
      "q0_0: |0>───────────────────┤M├\n",
      "                    ┌───┐┌─┐└╥┘\n",
      "q0_1: |0>───────────┤ X ├┤M├─╫─\n",
      "            ┌───┐┌─┐└───┘└╥┘ ║ \n",
      "q1_0: |0>───┤ X ├┤M├──────╫──╫─\n",
      "         ┌─┐└───┘└╥┘      ║  ║ \n",
      "q1_1: |0>┤M├──────╫───────╫──╫─\n",
      "         └╥┘      ║       ║  ║ \n",
      " c0_0: 0 ═╬═══════╬═══════╬══╩═\n",
      "          ║       ║       ║    \n",
      " c0_1: 0 ═╬═══════╬═══════╩════\n",
      "          ║       ║            \n",
      " c1_0: 0 ═╬═══════╩════════════\n",
      "          ║                    \n",
      " c1_1: 0 ═╩════════════════════\n",
      "                               \n"
     ]
    }
   ],
   "source": [
    "meas = QuantumCircuit(q0, q1, c0, c1)\n",
    "meas.measure(q0, c0)\n",
    "meas.measure(q1, c1)\n",
    "qc = circ + meas\n",
    "print(qc)"
   ]
  },
  {
   "cell_type": "code",
   "execution_count": null,
   "metadata": {
    "collapsed": true
   },
   "outputs": [],
   "source": []
  }
 ],
 "metadata": {
  "kernelspec": {
   "display_name": "Python 3",
   "language": "python",
   "name": "python3"
  },
  "language_info": {
   "codemirror_mode": {
    "name": "ipython",
    "version": 3
   },
   "file_extension": ".py",
   "mimetype": "text/x-python",
   "name": "python",
   "nbconvert_exporter": "python",
   "pygments_lexer": "ipython3",
   "version": "3.5.0"
  }
 },
 "nbformat": 4,
 "nbformat_minor": 2
}
